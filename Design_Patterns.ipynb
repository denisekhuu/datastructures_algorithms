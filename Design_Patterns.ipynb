{
 "cells": [
  {
   "cell_type": "markdown",
   "id": "7a4335d2-d154-4f1a-b7dd-75a4f0674143",
   "metadata": {},
   "source": [
    "# Design Patterns\n"
   ]
  },
  {
   "cell_type": "markdown",
   "id": "dffaf048-1961-4ba8-90eb-d870fa485275",
   "metadata": {},
   "source": [
    "## Algorithm Design Patterns"
   ]
  },
  {
   "cell_type": "markdown",
   "id": "d73deb15-a31b-4a1e-91f8-78d0b13bfa93",
   "metadata": {},
   "source": [
    "* Recursion \n",
    "* Amortization \n",
    "* Divide and Conquer \n",
    "* Prune and Search (Decrease and Conquer)\n",
    "* Brute Force \n",
    "* Dynamic Programming\n",
    "* The greedy method \n"
   ]
  },
  {
   "cell_type": "markdown",
   "id": "361ec70b-5f16-475f-9276-0d49e92b9134",
   "metadata": {},
   "source": [
    "## Software Engineering Design Pattern"
   ]
  },
  {
   "cell_type": "markdown",
   "id": "85e971a5-4aef-4abb-939d-f7408698b0ff",
   "metadata": {},
   "source": [
    "* Iterator \n",
    "* Adapter \n",
    "* Position \n",
    "* Composition \n",
    "* Template Method \n",
    "* Locator \n",
    "* Factory Method"
   ]
  },
  {
   "cell_type": "markdown",
   "id": "1498051c-5466-44fe-83b1-90906a35a998",
   "metadata": {
    "tags": []
   },
   "source": [
    "## Software Development "
   ]
  },
  {
   "cell_type": "markdown",
   "id": "7c42d383-d3af-408b-96a5-164b42731b0e",
   "metadata": {},
   "source": [
    "1. Design \n",
    "2. Implementtion \n",
    "3. Testing and Debugging"
   ]
  },
  {
   "cell_type": "markdown",
   "id": "73add6d4-d83b-4929-9538-3266d317e465",
   "metadata": {},
   "source": [
    "Function comment\n",
    "\n",
    "”””\n",
    "Multiply all entries of numeric data list by the given factor.\n",
    "\n",
    "data an instance of any mutable sequence type (such as a list) containing numeric elements\n",
    "\n",
    "factor a number that serves as the multiplicative factor for scaling\n",
    "”””"
   ]
  }
 ],
 "metadata": {
  "kernelspec": {
   "display_name": "Python 3 (ipykernel)",
   "language": "python",
   "name": "python3"
  },
  "language_info": {
   "codemirror_mode": {
    "name": "ipython",
    "version": 3
   },
   "file_extension": ".py",
   "mimetype": "text/x-python",
   "name": "python",
   "nbconvert_exporter": "python",
   "pygments_lexer": "ipython3",
   "version": "3.10.6"
  }
 },
 "nbformat": 4,
 "nbformat_minor": 5
}
