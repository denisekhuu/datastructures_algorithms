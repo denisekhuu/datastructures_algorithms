{
 "cells": [
  {
   "cell_type": "markdown",
   "id": "eb30faf7-22de-4865-961d-89d8a80a2438",
   "metadata": {},
   "source": [
    "# Recursion"
   ]
  },
  {
   "cell_type": "markdown",
   "id": "8b26f86d-321f-4b53-b2bb-30fadcc33124",
   "metadata": {},
   "source": [
    "• If a recursive call starts at most one other, we call this a linear recursion.\n",
    "\n",
    "• If a recursive call may start two others, we call this a binary recursion.\n",
    "\n",
    "• If a recursive call may start three or more others, this is multiple recursion."
   ]
  },
  {
   "cell_type": "markdown",
   "id": "58b02cbf-95d2-416a-941d-07f6d54ccfe8",
   "metadata": {},
   "source": [
    "## Factorial Function\n",
    "* O(n) = (n+1)*O(1)"
   ]
  },
  {
   "cell_type": "code",
   "execution_count": 16,
   "id": "a3f3ce10-eee6-44af-99a5-16b79e25f134",
   "metadata": {},
   "outputs": [
    {
     "name": "stdout",
     "output_type": "stream",
     "text": [
      "6\n",
      "720\n"
     ]
    }
   ],
   "source": [
    "def factorial(n: int):\n",
    "    if n<2: \n",
    "        return 1\n",
    "    return n * factorial(n-1)\n",
    "\n",
    "print(factorial(3))\n",
    "print(factorial(6))"
   ]
  },
  {
   "cell_type": "markdown",
   "id": "90038d83-ef90-4b5a-b7e0-88a068f04d95",
   "metadata": {},
   "source": [
    "## Draw English Ruler\n",
    "Draw interval T(m) = 2T(m-1) + O(1)\n",
    "Draw ruler T(n,m) =  O(1) + n(T(m)+O(1))"
   ]
  },
  {
   "cell_type": "code",
   "execution_count": 23,
   "id": "c6d1cbad-bc5b-427d-8e6d-e3b87a298e98",
   "metadata": {},
   "outputs": [
    {
     "name": "stdout",
     "output_type": "stream",
     "text": [
      "-- 0\n",
      "-\n",
      "-- 1\n",
      "-\n",
      "-- 2\n",
      "-\n",
      "-- 3\n"
     ]
    }
   ],
   "source": [
    "def draw_line(tick_length, tick_label=''): \n",
    "    \"\"\"Draw ine lie with given tick length.\"\"\"\n",
    "    line = '-' * tick_length \n",
    "    if tick_label: \n",
    "        line += ' ' + tick_label\n",
    "    print(line)\n",
    "\n",
    "def draw_interval(center_length):\n",
    "    \"\"\"Draw tick interval based upon a central tick length.\"\"\"\n",
    "    if center_length > 0: \n",
    "        draw_interval(center_length - 1)\n",
    "        draw_line(center_length)\n",
    "        draw_interval(center_length - 1)\n",
    "        \n",
    "def draw_ruler(num_inches, major_length):\n",
    "    \"\"\"Draw English ruler with given number of inches, major tick length.\"\"\"\n",
    "    draw_line(major_length, '0')\n",
    "    for j in range (1, 1+ num_inches): \n",
    "        draw_interval(major_length -1)\n",
    "        draw_line(major_length, str(j))\n",
    "\n",
    "draw_ruler(3,2)"
   ]
  },
  {
   "cell_type": "markdown",
   "id": "e5e81b30-7e20-4116-bd71-136702d0a0be",
   "metadata": {},
   "source": [
    "## Binary Search "
   ]
  },
  {
   "cell_type": "code",
   "execution_count": 21,
   "id": "8409dcd4-ee05-4574-aca1-7a97132ea3dd",
   "metadata": {},
   "outputs": [],
   "source": [
    "def binary_search(data, target, low, high):\n",
    "    \"\"\"\n",
    "    Return index of target if target is found in indicated portion of a Python list.\n",
    "\n",
    "    The search only considers the portion from data[low] to data[high] inclusive.\n",
    "    \"\"\"\n",
    "    if low > high: \n",
    "        return None\n",
    "    else: \n",
    "        mid = (low + high)//2\n",
    "        if target == data[mid]: \n",
    "            return mid\n",
    "        elif target < data[mid]:\n",
    "            return binary_search(data, target, low, mid-1)\n",
    "        else: \n",
    "            return binary_search(data, target, mid+1, high)"
   ]
  },
  {
   "cell_type": "code",
   "execution_count": null,
   "id": "ae03112e-2f03-412f-a37a-e2d910085ac6",
   "metadata": {},
   "outputs": [],
   "source": [
    "def binary_search_iterativ(data, target): \n",
    "    \"\"\"Return index of target if target is found in the given Python list.\"\"\"\n",
    "    low = 0, \n",
    "    high = len(data) - 1\n",
    "    while low <= high:\n",
    "        mid = (low + high)//2\n",
    "        if target == data[mid] :\n",
    "            return mid\n",
    "        elif target < data[mid]:\n",
    "            high = mid - 1\n",
    "        else:\n",
    "            low = mid + 1\n",
    "        return Nones\n",
    "        "
   ]
  },
  {
   "cell_type": "code",
   "execution_count": 22,
   "id": "effea631-f621-4c4f-bf94-3ef49a0bcc56",
   "metadata": {},
   "outputs": [
    {
     "name": "stdout",
     "output_type": "stream",
     "text": [
      "Index of 2: 1\n"
     ]
    }
   ],
   "source": [
    "A = [1,2,5,6,7,8,34,45,76]\n",
    "print(\"Index of {}: {}\".format(2, binary_search(A, 2, 0, len(A)-1)))"
   ]
  },
  {
   "cell_type": "markdown",
   "id": "ab2e3b1e-42fa-4cd9-8e13-6560fe40d4d5",
   "metadata": {},
   "source": [
    "## Recursive File Usage"
   ]
  },
  {
   "cell_type": "code",
   "execution_count": 6,
   "id": "ca2e5178-9577-420f-aa9b-8c3041145268",
   "metadata": {},
   "outputs": [],
   "source": [
    "import os \n",
    "\n",
    "def disk_usage(path): \n",
    "    \"\"\"Return the number of bytes used by a file/folder and any descendents.\"\"\"\n",
    "    total = os.path.getsize(path)\n",
    "    if os.path.isdir(path): \n",
    "        for filename in os.listdir(path): \n",
    "            childpath = os.path.join(path, filename)\n",
    "            total += disk_usage(childpath)\n",
    "            \n",
    "    print ('{0:<7}'.format(total), path)\n",
    "    return total\n",
    "    "
   ]
  },
  {
   "cell_type": "code",
   "execution_count": 7,
   "id": "c5fbc5b9-1c19-474d-a336-ceeace183328",
   "metadata": {},
   "outputs": [
    {
     "name": "stdout",
     "output_type": "stream",
     "text": [
      "2399    /home/jovyan/work/data_structure_and_algorithms/.ipynb_checkpoints/Design_Patterns-checkpoint.ipynb\n",
      "7857    /home/jovyan/work/data_structure_and_algorithms/.ipynb_checkpoints/Recursion-checkpoint.ipynb\n",
      "14352   /home/jovyan/work/data_structure_and_algorithms/.ipynb_checkpoints\n",
      "2399    /home/jovyan/work/data_structure_and_algorithms/Design_Patterns.ipynb\n",
      "7857    /home/jovyan/work/data_structure_and_algorithms/Recursion.ipynb\n",
      "28704   /home/jovyan/work/data_structure_and_algorithms\n"
     ]
    },
    {
     "data": {
      "text/plain": [
       "28704"
      ]
     },
     "execution_count": 7,
     "metadata": {},
     "output_type": "execute_result"
    }
   ],
   "source": [
    "disk_usage(os.path.join(\"/home/jovyan/work/data_structure_and_algorithms\"))"
   ]
  },
  {
   "cell_type": "markdown",
   "id": "fff38325-b19b-4b4a-9cf8-696a26c8e18c",
   "metadata": {},
   "source": [
    "## Fibonacci Numbers"
   ]
  },
  {
   "cell_type": "code",
   "execution_count": 16,
   "id": "21285a25-f9ab-4e4a-b39f-8a0f0fa8604b",
   "metadata": {},
   "outputs": [],
   "source": [
    "def bad_fibonacci(n):\n",
    "    \"\"\"Return the nth Fibonacci number.\"\"\"\n",
    "    if n < 2:\n",
    "        return n \n",
    "    else: \n",
    "        return bad_fibonacci(n-2) + bad_fibonacci(n-1)"
   ]
  },
  {
   "cell_type": "code",
   "execution_count": 17,
   "id": "b3851476-c992-462a-9e24-ac79c922716d",
   "metadata": {},
   "outputs": [
    {
     "data": {
      "text/plain": [
       "2"
      ]
     },
     "execution_count": 17,
     "metadata": {},
     "output_type": "execute_result"
    }
   ],
   "source": [
    "bad_fibonacci(3)"
   ]
  },
  {
   "cell_type": "code",
   "execution_count": 9,
   "id": "3c39c1fe-2ab1-4535-a3c3-86f68e662fe5",
   "metadata": {},
   "outputs": [],
   "source": [
    "def good_fibonacci(n): \n",
    "    if n <= 1:\n",
    "        return (n, 0)\n",
    "    else:\n",
    "        (a,b) = good_fibonacci(n-1)\n",
    "        return (a+b, a)"
   ]
  },
  {
   "cell_type": "code",
   "execution_count": 11,
   "id": "24a89ad6-dd7c-4be9-be2a-d05266912893",
   "metadata": {},
   "outputs": [
    {
     "data": {
      "text/plain": [
       "(2, 1)"
      ]
     },
     "execution_count": 11,
     "metadata": {},
     "output_type": "execute_result"
    }
   ],
   "source": [
    "good_fibonacci(3)"
   ]
  },
  {
   "cell_type": "markdown",
   "id": "d76a94f3-3849-41e6-830f-65eaedfdbb74",
   "metadata": {},
   "source": [
    "## Setting max recursion call"
   ]
  },
  {
   "cell_type": "code",
   "execution_count": 15,
   "id": "6c677f7d-149a-4d9e-8b18-2c54dc9221b6",
   "metadata": {},
   "outputs": [
    {
     "name": "stdout",
     "output_type": "stream",
     "text": [
      "3000\n"
     ]
    }
   ],
   "source": [
    "import sys\n",
    "old = sys.getrecursionlimit( ) # perhaps 1000 is typical\n",
    "# sys.setrecursionlimit(1000)# change to allow 1 million nested calls\n",
    "print(old)"
   ]
  },
  {
   "cell_type": "markdown",
   "id": "89160985-3ab7-4d95-91c1-baca6e0cb5f8",
   "metadata": {},
   "source": [
    "## Summing the Elements of a Sequence Recursively"
   ]
  },
  {
   "cell_type": "code",
   "execution_count": 44,
   "id": "674adcaf-b027-4192-b72f-15f403062861",
   "metadata": {},
   "outputs": [
    {
     "data": {
      "text/plain": [
       "14"
      ]
     },
     "execution_count": 44,
     "metadata": {},
     "output_type": "execute_result"
    }
   ],
   "source": [
    "def linear_sum(S,n): \n",
    "    \"\"\"Return the sum of the first n numbers of sequence S.\"\"\"\n",
    "    \"\"\" Computation O(n), Space O(n)\"\"\"\n",
    "    if n == 0:\n",
    "        return 0 \n",
    "    else:\n",
    "        return linear_sum(S,n-1) + S[n-1]\n",
    "\n",
    "A = [1,2,5,6,7,8,34,45,76]\n",
    "linear_sum(A, 4)"
   ]
  },
  {
   "cell_type": "code",
   "execution_count": 45,
   "id": "eb55b9ef-83f8-480c-b1e9-851ef5312e59",
   "metadata": {},
   "outputs": [],
   "source": [
    "def binary_sum(S, start, stop): \n",
    "    \"\"\"Return the sum of the numbers in implicit slice S[start:stop].\"\"\"\n",
    "    \"\"\" Computation O(n), Space O(log(n))\"\"\"\n",
    "    if start >= stop: \n",
    "        return 0 \n",
    "    elif start == stop -1: \n",
    "        return S[start]\n",
    "    else: \n",
    "        mid = (start + stop) // 2\n",
    "        return binary_sum(S, start, mid) + binary_sum(S, mid, stop)"
   ]
  },
  {
   "cell_type": "code",
   "execution_count": 43,
   "id": "79a1a832-3d59-429b-a06d-c77439596937",
   "metadata": {},
   "outputs": [
    {
     "data": {
      "text/plain": [
       "13"
      ]
     },
     "execution_count": 43,
     "metadata": {},
     "output_type": "execute_result"
    }
   ],
   "source": [
    "A = [1,2,5,6,7,8,34,45,76]\n",
    "binary_sum(A, 1, 4)"
   ]
  },
  {
   "cell_type": "markdown",
   "id": "c89f4e67-df79-4165-ae90-89d906546a15",
   "metadata": {},
   "source": [
    "## Reversing a Sequence with Recursion"
   ]
  },
  {
   "cell_type": "code",
   "execution_count": 49,
   "id": "a2cd66ad-b2a0-4bea-8faf-7146f29a0273",
   "metadata": {},
   "outputs": [],
   "source": [
    "def reverse(S, start, stop): \n",
    "    \"\"\"Reverse elements in implicit slice S[start:stop].\"\"\"\n",
    "    if start < stop -1: \n",
    "        S[start], S[stop-1] = S[stop-1], S[start] \n",
    "        reverse(S, start+1, stop-1)"
   ]
  },
  {
   "cell_type": "code",
   "execution_count": 50,
   "id": "2799ec4b-45ad-43fa-9b33-123eb1cbc025",
   "metadata": {},
   "outputs": [],
   "source": [
    "def reverse_iterative(S): \n",
    "    \"\"\"Reverse elements in sequence S.\"\"\"\n",
    "    start, stop = 0, len(S)\n",
    "    while start < stop-1:\n",
    "        S[start], S[stop-1] = S[stop-1], S[start] \n",
    "        start, stop = start + 1, stop - 1"
   ]
  },
  {
   "cell_type": "code",
   "execution_count": 51,
   "id": "31d49401-cd08-4cae-b61b-c92dd6c8aa65",
   "metadata": {},
   "outputs": [
    {
     "name": "stdout",
     "output_type": "stream",
     "text": [
      "[76, 45, 34, 8, 7, 6, 5, 2, 1]\n"
     ]
    }
   ],
   "source": [
    "reverse(A, 0, len(A))\n",
    "print(A)"
   ]
  },
  {
   "cell_type": "code",
   "execution_count": 54,
   "id": "8835fa95-fe99-428e-8428-ae8e77693331",
   "metadata": {},
   "outputs": [
    {
     "name": "stdout",
     "output_type": "stream",
     "text": [
      "[1, 2, 5, 6, 7, 8, 34, 45, 76]\n"
     ]
    }
   ],
   "source": [
    "reverse_iterative(A)\n",
    "print(A)"
   ]
  },
  {
   "cell_type": "markdown",
   "id": "73aea8ad-db7d-41ea-8890-a9c653fd57d5",
   "metadata": {},
   "source": [
    "## Computing Powers"
   ]
  },
  {
   "cell_type": "code",
   "execution_count": 55,
   "id": "952b6955-3236-409c-9da4-4f67d80456a9",
   "metadata": {},
   "outputs": [],
   "source": [
    "def power(x,n): \n",
    "    \"\"\"Compute the value x n for integer n. O(n)\"\"\"\n",
    "    if n == 0: \n",
    "        return 1\n",
    "    else: \n",
    "        return x * power(x, n-1)"
   ]
  },
  {
   "cell_type": "code",
   "execution_count": 56,
   "id": "e979d698-ff67-4abc-9856-451a94b30bc2",
   "metadata": {},
   "outputs": [],
   "source": [
    "def power(x,n):\n",
    "    \"\"\"Compute the value x n for integer n. O(log(n))\"\"\"\n",
    "    if n == 0: \n",
    "        return 1\n",
    "    else: \n",
    "        partial = power(x, n//2)\n",
    "        result = partial * partial \n",
    "        if n % 2 == 1: \n",
    "            result *= x\n",
    "        return result"
   ]
  },
  {
   "cell_type": "code",
   "execution_count": 40,
   "id": "2f36f560-ad3a-4bb9-9c29-73c158d0b84a",
   "metadata": {},
   "outputs": [
    {
     "data": {
      "text/plain": [
       "625"
      ]
     },
     "execution_count": 40,
     "metadata": {},
     "output_type": "execute_result"
    }
   ],
   "source": [
    "power(5,4)"
   ]
  },
  {
   "cell_type": "markdown",
   "id": "0afc115b-6f58-4504-b98b-5499acd795ac",
   "metadata": {},
   "source": [
    "## Designing Recursive Algorithms\n",
    "In general, an algorithm that uses recursion typically has the following form:\n",
    "\n",
    "• Test for base cases. We begin by testing for a set of base cases (there should\n",
    "be at least one). These base cases should be defined so that every possible\n",
    "chain of recursive calls will eventually reach a base case, and the handling of\n",
    "each base case should not use recursion.\n",
    "\n",
    "• Recur. If not a base case, we perform one or more recursive calls. This recursive step may involve a test that decides which of several possible recursive\n",
    "calls to make. We should define each possible recursive call so that it makes\n",
    "progress towards a base case."
   ]
  },
  {
   "cell_type": "markdown",
   "id": "33827589-5ede-4f3a-b3f5-38dd62538c27",
   "metadata": {},
   "source": [
    "### Parameterizing a Recursion"
   ]
  },
  {
   "cell_type": "markdown",
   "id": "f5142a9a-bc4f-4707-925f-818fa7f56894",
   "metadata": {},
   "source": [
    "* define subproblems that have the same general structure as the original problem. \n",
    "* reparameterizing the signature of the function"
   ]
  }
 ],
 "metadata": {
  "kernelspec": {
   "display_name": "Python 3 (ipykernel)",
   "language": "python",
   "name": "python3"
  },
  "language_info": {
   "codemirror_mode": {
    "name": "ipython",
    "version": 3
   },
   "file_extension": ".py",
   "mimetype": "text/x-python",
   "name": "python",
   "nbconvert_exporter": "python",
   "pygments_lexer": "ipython3",
   "version": "3.10.6"
  }
 },
 "nbformat": 4,
 "nbformat_minor": 5
}
