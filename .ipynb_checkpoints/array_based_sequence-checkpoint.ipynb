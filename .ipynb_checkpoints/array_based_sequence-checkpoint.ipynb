{
 "cells": [
  {
   "cell_type": "markdown",
   "id": "639a1ece-acca-4b0b-8e8a-30577846d83d",
   "metadata": {},
   "source": [
    "# Array-Based Sequences"
   ]
  },
  {
   "cell_type": "markdown",
   "id": "b2ef4a25-bbd0-46a4-b0e5-07da4fca99c3",
   "metadata": {},
   "source": [
    "built-in \"sequence classes\" \n",
    "* list\n",
    "* tuple\n",
    "* str\n",
    "\n",
    "1. each supports indexing to access an individual element of a sequence, using a syntax such as seq[k]\n",
    "2. low-level concept known as an array to represent the sequence"
   ]
  },
  {
   "cell_type": "markdown",
   "id": "3411b35f-f48f-4498-9f3d-a46da0d95d61",
   "metadata": {},
   "source": [
    "## Dynamic Arrays and Amortization"
   ]
  },
  {
   "cell_type": "code",
   "execution_count": 5,
   "id": "3b2e4aaf-0767-4c93-9ce3-e5997debfb0f",
   "metadata": {},
   "outputs": [
    {
     "name": "stdout",
     "output_type": "stream",
     "text": [
      "Length:   0; Size in bytes:   56\n",
      "Length:   1; Size in bytes:   88\n",
      "Length:   2; Size in bytes:   88\n",
      "Length:   3; Size in bytes:   88\n",
      "Length:   4; Size in bytes:   88\n",
      "Length:   5; Size in bytes:  120\n",
      "Length:   6; Size in bytes:  120\n",
      "Length:   7; Size in bytes:  120\n",
      "Length:   8; Size in bytes:  120\n",
      "Length:   9; Size in bytes:  184\n",
      "Length:  10; Size in bytes:  184\n",
      "Length:  11; Size in bytes:  184\n",
      "Length:  12; Size in bytes:  184\n",
      "Length:  13; Size in bytes:  184\n",
      "Length:  14; Size in bytes:  184\n",
      "Length:  15; Size in bytes:  184\n",
      "Length:  16; Size in bytes:  184\n",
      "Length:  17; Size in bytes:  248\n",
      "Length:  18; Size in bytes:  248\n",
      "Length:  19; Size in bytes:  248\n",
      "Length:  20; Size in bytes:  248\n",
      "Length:  21; Size in bytes:  248\n",
      "Length:  22; Size in bytes:  248\n",
      "Length:  23; Size in bytes:  248\n",
      "Length:  24; Size in bytes:  248\n",
      "Length:  25; Size in bytes:  312\n"
     ]
    }
   ],
   "source": [
    "import sys\n",
    "n = 26\n",
    "data = [] \n",
    "for k in range(n): \n",
    "    a = len(data)\n",
    "    b = sys.getsizeof(data) \n",
    "    print('Length: {0:3d}; Size in bytes: {1:4d}'.format(a, b))\n",
    "    data.append(None)"
   ]
  },
  {
   "cell_type": "markdown",
   "id": "86584c7a-135d-4e73-bf4e-de9ae7291962",
   "metadata": {},
   "source": [
    "## Implementing a Dynamic List"
   ]
  },
  {
   "cell_type": "code",
   "execution_count": null,
   "id": "8ee04240-dd2f-41db-8115-f1f341e69b37",
   "metadata": {},
   "outputs": [],
   "source": []
  }
 ],
 "metadata": {
  "kernelspec": {
   "display_name": "Python 3 (ipykernel)",
   "language": "python",
   "name": "python3"
  },
  "language_info": {
   "codemirror_mode": {
    "name": "ipython",
    "version": 3
   },
   "file_extension": ".py",
   "mimetype": "text/x-python",
   "name": "python",
   "nbconvert_exporter": "python",
   "pygments_lexer": "ipython3",
   "version": "3.10.6"
  }
 },
 "nbformat": 4,
 "nbformat_minor": 5
}
