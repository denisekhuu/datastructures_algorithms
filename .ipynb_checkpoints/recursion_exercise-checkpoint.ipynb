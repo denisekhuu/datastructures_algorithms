{
 "cells": [
  {
   "cell_type": "markdown",
   "id": "7a3a11f9-7c04-412d-a20e-ec6b6f280d44",
   "metadata": {},
   "source": [
    "# Recursion Exercise"
   ]
  },
  {
   "cell_type": "markdown",
   "id": "9af65bc0-8650-4ac7-b685-f8ea67570ebc",
   "metadata": {},
   "source": [
    "Describe a recursive algorithm for finding the maximum element in a sequence, S, of n elements. What is your running time and space usage?"
   ]
  },
  {
   "cell_type": "code",
   "execution_count": 20,
   "id": "072145c2-b118-403a-af29-cbb8cc16a109",
   "metadata": {},
   "outputs": [
    {
     "name": "stdout",
     "output_type": "stream",
     "text": [
      "[5, 7, 1, 2, 34, 45, 6, 8]\n"
     ]
    }
   ],
   "source": [
    "import random\n",
    "A = [1,2,5,6,7,8,34,45]\n",
    "A_random = [1, 34, 6, 8, 76, 2, 45, 7, 5]\n",
    "random.shuffle(A)\n",
    "print(A)"
   ]
  },
  {
   "cell_type": "code",
   "execution_count": 25,
   "id": "5ebd0fd9-5c75-4251-8d90-38a3a4d5451c",
   "metadata": {},
   "outputs": [],
   "source": [
    "# Computation O(n) and space O(n)\n",
    "def max_value(data, i):\n",
    "    \"\"\" Computes the max value of an array \"\"\"\n",
    "    if i == 0: \n",
    "        return data[i]\n",
    "    old = max_value(data, i-1)\n",
    "    return data[i] if old < data[i] else old"
   ]
  },
  {
   "cell_type": "code",
   "execution_count": 21,
   "id": "9c81fd79-a1b1-4616-a57b-41a73d7a7304",
   "metadata": {},
   "outputs": [
    {
     "name": "stdout",
     "output_type": "stream",
     "text": [
      "45\n"
     ]
    }
   ],
   "source": [
    "print(max_value(A, len(A)-1))"
   ]
  },
  {
   "cell_type": "markdown",
   "id": "f7d78eb6-c349-4dbb-a2c4-45f86b0e8772",
   "metadata": {},
   "source": [
    "Describe a recursive function for computing the nth Harmonic number,\n",
    "Hn = ∑n\n",
    "i=1 1/i"
   ]
  },
  {
   "cell_type": "code",
   "execution_count": 26,
   "id": "99d25dea-f14b-4fde-8c71-21e3ba4cf2d3",
   "metadata": {},
   "outputs": [],
   "source": [
    "def harmonic_num(n): \n",
    "    \"\"\"Computes the nth harmonic number\"\"\"\n",
    "    if n < 2:\n",
    "        return 1\n",
    "    return (1/n) + harmonic_num(n-1)"
   ]
  },
  {
   "cell_type": "code",
   "execution_count": 30,
   "id": "81a7f6fc-490c-4512-9013-2d55ab8c6baa",
   "metadata": {},
   "outputs": [
    {
     "data": {
      "text/plain": [
       "2.9289682539682538"
      ]
     },
     "execution_count": 30,
     "metadata": {},
     "output_type": "execute_result"
    }
   ],
   "source": [
    "harmonic_num(10)"
   ]
  },
  {
   "cell_type": "code",
   "execution_count": 64,
   "id": "2cbea405-2749-4839-abb3-94ce5e3f7136",
   "metadata": {},
   "outputs": [],
   "source": [
    "def string_to_int(data, n): \n",
    "    if n < 2: \n",
    "        return int(data[-n])\n",
    "    return (10**(n-1))*int(data[-(n)]) + string_to_int(data, n-1)"
   ]
  },
  {
   "cell_type": "code",
   "execution_count": 65,
   "id": "1db240e8-9cac-4e5b-a321-daba12666c67",
   "metadata": {},
   "outputs": [
    {
     "name": "stdout",
     "output_type": "stream",
     "text": [
      "12346\n"
     ]
    }
   ],
   "source": [
    "\n",
    "print(string_to_int(\"12345\", len(\"12345\")))"
   ]
  }
 ],
 "metadata": {
  "kernelspec": {
   "display_name": "Python 3 (ipykernel)",
   "language": "python",
   "name": "python3"
  },
  "language_info": {
   "codemirror_mode": {
    "name": "ipython",
    "version": 3
   },
   "file_extension": ".py",
   "mimetype": "text/x-python",
   "name": "python",
   "nbconvert_exporter": "python",
   "pygments_lexer": "ipython3",
   "version": "3.10.6"
  }
 },
 "nbformat": 4,
 "nbformat_minor": 5
}
